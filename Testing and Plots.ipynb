{
 "cells": [
  {
   "cell_type": "code",
   "execution_count": 10,
   "metadata": {},
   "outputs": [],
   "source": [
    "import matplotlib.pyplot as plt\n",
    "from torchvision import utils\n",
    "from basic_fcn import *\n",
    "from dataloader import *\n",
    "from utils import *\n",
    "import torchvision\n",
    "import torch.nn.functional as F\n",
    "import torch.optim as optim\n",
    "from torch.autograd import Variable\n",
    "import time\n",
    "import math\n",
    "import pickle\n",
    "import numpy as np\n",
    "from tqdm import tqdm\n",
    "import gc"
   ]
  },
  {
   "cell_type": "code",
   "execution_count": 2,
   "metadata": {},
   "outputs": [
    {
     "ename": "FileNotFoundError",
     "evalue": "[Errno 2] No such file or directory: 'baseline.log'",
     "output_type": "error",
     "traceback": [
      "\u001b[0;31m---------------------------------------------------------------------------\u001b[0m",
      "\u001b[0;31mFileNotFoundError\u001b[0m                         Traceback (most recent call last)",
      "\u001b[0;32m<ipython-input-2-375c1512db5c>\u001b[0m in \u001b[0;36m<module>\u001b[0;34m\u001b[0m\n\u001b[0;32m----> 1\u001b[0;31m \u001b[0mf\u001b[0m \u001b[0;34m=\u001b[0m \u001b[0mopen\u001b[0m\u001b[0;34m(\u001b[0m\u001b[0;34m'baseline.log'\u001b[0m\u001b[0;34m,\u001b[0m \u001b[0;34m'r'\u001b[0m\u001b[0;34m)\u001b[0m\u001b[0;34m\u001b[0m\u001b[0;34m\u001b[0m\u001b[0m\n\u001b[0m\u001b[1;32m      2\u001b[0m \u001b[0;34m\u001b[0m\u001b[0m\n\u001b[1;32m      3\u001b[0m \u001b[0mtrain_losses\u001b[0m \u001b[0;34m=\u001b[0m \u001b[0;34m[\u001b[0m\u001b[0;34m]\u001b[0m\u001b[0;34m\u001b[0m\u001b[0;34m\u001b[0m\u001b[0m\n\u001b[1;32m      4\u001b[0m \u001b[0mval_losses\u001b[0m \u001b[0;34m=\u001b[0m \u001b[0;34m[\u001b[0m\u001b[0;34m]\u001b[0m\u001b[0;34m\u001b[0m\u001b[0;34m\u001b[0m\u001b[0m\n\u001b[1;32m      5\u001b[0m \u001b[0mtrain_losses_epoch\u001b[0m \u001b[0;34m=\u001b[0m \u001b[0;34m[\u001b[0m\u001b[0;34m]\u001b[0m\u001b[0;34m\u001b[0m\u001b[0;34m\u001b[0m\u001b[0m\n",
      "\u001b[0;31mFileNotFoundError\u001b[0m: [Errno 2] No such file or directory: 'baseline.log'"
     ]
    }
   ],
   "source": [
    "f = open('baseline.log', 'r')\n",
    "\n",
    "train_losses = []\n",
    "val_losses = []\n",
    "train_losses_epoch = []\n",
    "\n",
    "for line in [x.rstrip('\\n') for x in f.readlines()]:\n",
    "    temp = line.split()\n",
    "    if temp[0].startswith('epoch'):\n",
    "        if len(temp) == 19: # Validation\n",
    "            val_losses.append(temp[9])\n",
    "            train_losses_epoch.append(temp[6])\n",
    "        elif len(temp) == 4:\n",
    "            train_losses.append(temp[3])\n",
    "            \n",
    "train_losses = [float(x) for x in train_losses]\n",
    "val_losses = [float(x.rstrip(',')) for x in val_losses]\n",
    "train_losses_epoch = [float(x.rstrip(',')) for x in train_losses_epoch]\n",
    "            \n",
    "print(len(train_losses))\n",
    "print(len(val_losses))\n",
    "print(val_losses)\n",
    "print(train_losses[:10])"
   ]
  },
  {
   "cell_type": "code",
   "execution_count": null,
   "metadata": {},
   "outputs": [],
   "source": [
    "plt.plot(train_losses)\n",
    "plt.xlabel('epoch')\n",
    "plt.ylabel('train loss')\n",
    "plt.show()\n",
    "\n",
    "plt.plot(val_losses)\n",
    "plt.xlabel('epoch')\n",
    "plt.ylabel('val loss')\n",
    "plt.show()\n",
    "\n",
    "plt.plot(train_losses_epoch)\n",
    "plt.xlabel('epoch')\n",
    "plt.ylabel('train loss per epoch')\n",
    "plt.show()"
   ]
  },
  {
   "cell_type": "code",
   "execution_count": 2,
   "metadata": {},
   "outputs": [],
   "source": [
    "def val(model, val_loader, criterion, use_gpu):\n",
    "    \n",
    "    # set to evaluation mode \n",
    "    model.eval()\n",
    "\n",
    "    softmax = nn.Softmax(dim = 1)\n",
    "    \n",
    "    loss = []\n",
    "    pred = []\n",
    "    acc = []\n",
    "    \n",
    "    IOU_init = False\n",
    "    if use_gpu:\n",
    "        device = torch.device(\"cuda:0\")\n",
    "        \n",
    "        #model.to(device)\n",
    "        \n",
    "#     for iter, (X, tar, Y) in tqdm(enumerate(val_loader)):\n",
    "    count = 0\n",
    "    for iter, (X, tar, Y) in enumerate(val_loader):\n",
    "        \n",
    "        if not IOU_init:\n",
    "            IOU_init = True\n",
    "            IOU = np.zeros((1,19))\n",
    "            \n",
    "        if use_gpu:\n",
    "            inputs = X.to(device)\n",
    "            labels = Y.to(device)\n",
    "            \n",
    "        else:\n",
    "            inputs, labels = X, Y\n",
    "\n",
    "            \n",
    "        with torch.no_grad():   \n",
    "            outputs = model(inputs)    \n",
    "            loss.append(criterion(outputs, labels.long()).item())\n",
    "            prediction = softmax(outputs) \n",
    "#             print('pred shape: ', prediction.shape)\n",
    "#             print('labels shape: ', labels.shape)\n",
    "#             acc.append(pixel_acc(prediction, labels).item())\n",
    "            acc.append(pixel_acc(prediction, labels))\n",
    "            IOU = IOU + np.array(iou(prediction, labels))\n",
    "            \n",
    "        if iter % 100 == 0:\n",
    "            print('iter: ', iter)\n",
    "#         count += 1\n",
    "#         if count == 7:\n",
    "#             break\n",
    "        \n",
    "#     print(iter)\n",
    "    acc = sum(acc)/len(acc)\n",
    "    avg_loss = sum(loss)/len(loss) \n",
    "    IOU = IOU/iter  \n",
    "    \n",
    "    return avg_loss, acc, IOU      "
   ]
  },
  {
   "cell_type": "code",
   "execution_count": 3,
   "metadata": {},
   "outputs": [
    {
     "name": "stdout",
     "output_type": "stream",
     "text": [
      "use gpu:  True\n"
     ]
    }
   ],
   "source": [
    "train_dataset = CityScapesDataset(csv_file='train.csv')\n",
    "val_dataset = CityScapesDataset(csv_file='val.csv')\n",
    "train_loader = DataLoader(dataset=train_dataset,\n",
    "                      batch_size=2,\n",
    "                      num_workers=4,\n",
    "                      shuffle=True)\n",
    "val_loader = DataLoader(dataset=val_dataset,\n",
    "                      batch_size=2,\n",
    "                      num_workers=4,\n",
    "                      shuffle=True)\n",
    "\n",
    "criterion = torch.nn.CrossEntropyLoss()\n",
    "use_gpu = torch.cuda.is_available()\n",
    "print('use gpu: ', use_gpu)\n",
    "\n",
    "val_losses = []\n",
    "val_accs = []\n",
    "val_ious = []"
   ]
  },
  {
   "cell_type": "code",
   "execution_count": 4,
   "metadata": {},
   "outputs": [
    {
     "name": "stdout",
     "output_type": "stream",
     "text": [
      "(19,)\n",
      "iter:  0\n",
      "(19,)\n",
      "(19,)\n",
      "(19,)\n",
      "(19,)\n",
      "(19,)\n",
      "(19,)\n",
      "(19,)\n",
      "(19,)\n",
      "(19,)\n",
      "(19,)\n",
      "(19,)\n",
      "(19,)\n",
      "(19,)\n",
      "(19,)\n",
      "(19,)\n",
      "(19,)\n"
     ]
    },
    {
     "ename": "KeyboardInterrupt",
     "evalue": "",
     "output_type": "error",
     "traceback": [
      "\u001b[0;31m---------------------------------------------------------------------------\u001b[0m",
      "\u001b[0;31mKeyboardInterrupt\u001b[0m                         Traceback (most recent call last)",
      "\u001b[0;32m<ipython-input-4-2298166beb4a>\u001b[0m in \u001b[0;36m<module>\u001b[0;34m\u001b[0m\n\u001b[1;32m      2\u001b[0m     \u001b[0mfcn_model\u001b[0m \u001b[0;34m=\u001b[0m \u001b[0mtorch\u001b[0m\u001b[0;34m.\u001b[0m\u001b[0mload\u001b[0m\u001b[0;34m(\u001b[0m\u001b[0;34m'weights_baseline/epoch-{}'\u001b[0m\u001b[0;34m.\u001b[0m\u001b[0mformat\u001b[0m\u001b[0;34m(\u001b[0m\u001b[0mepoch\u001b[0m\u001b[0;34m)\u001b[0m\u001b[0;34m)\u001b[0m\u001b[0;34m\u001b[0m\u001b[0;34m\u001b[0m\u001b[0m\n\u001b[1;32m      3\u001b[0m \u001b[0;34m\u001b[0m\u001b[0m\n\u001b[0;32m----> 4\u001b[0;31m     \u001b[0mval_loss\u001b[0m\u001b[0;34m,\u001b[0m \u001b[0mval_acc\u001b[0m\u001b[0;34m,\u001b[0m \u001b[0mval_iou\u001b[0m \u001b[0;34m=\u001b[0m \u001b[0mval\u001b[0m\u001b[0;34m(\u001b[0m\u001b[0mfcn_model\u001b[0m\u001b[0;34m,\u001b[0m \u001b[0mval_loader\u001b[0m\u001b[0;34m,\u001b[0m \u001b[0mcriterion\u001b[0m\u001b[0;34m,\u001b[0m \u001b[0muse_gpu\u001b[0m\u001b[0;34m)\u001b[0m\u001b[0;34m\u001b[0m\u001b[0;34m\u001b[0m\u001b[0m\n\u001b[0m\u001b[1;32m      5\u001b[0m     \u001b[0mval_losses\u001b[0m\u001b[0;34m.\u001b[0m\u001b[0mappend\u001b[0m\u001b[0;34m(\u001b[0m\u001b[0mval_loss\u001b[0m\u001b[0;34m)\u001b[0m\u001b[0;34m\u001b[0m\u001b[0;34m\u001b[0m\u001b[0m\n\u001b[1;32m      6\u001b[0m     \u001b[0mval_accs\u001b[0m\u001b[0;34m.\u001b[0m\u001b[0mappend\u001b[0m\u001b[0;34m(\u001b[0m\u001b[0mval_acc\u001b[0m\u001b[0;34m)\u001b[0m\u001b[0;34m\u001b[0m\u001b[0;34m\u001b[0m\u001b[0m\n",
      "\u001b[0;32m<ipython-input-2-f40345e124f2>\u001b[0m in \u001b[0;36mval\u001b[0;34m(model, val_loader, criterion, use_gpu)\u001b[0m\n\u001b[1;32m     25\u001b[0m \u001b[0;34m\u001b[0m\u001b[0m\n\u001b[1;32m     26\u001b[0m         \u001b[0;32mif\u001b[0m \u001b[0muse_gpu\u001b[0m\u001b[0;34m:\u001b[0m\u001b[0;34m\u001b[0m\u001b[0;34m\u001b[0m\u001b[0m\n\u001b[0;32m---> 27\u001b[0;31m             \u001b[0minputs\u001b[0m \u001b[0;34m=\u001b[0m \u001b[0mX\u001b[0m\u001b[0;34m.\u001b[0m\u001b[0mto\u001b[0m\u001b[0;34m(\u001b[0m\u001b[0mdevice\u001b[0m\u001b[0;34m)\u001b[0m\u001b[0;34m\u001b[0m\u001b[0;34m\u001b[0m\u001b[0m\n\u001b[0m\u001b[1;32m     28\u001b[0m             \u001b[0mlabels\u001b[0m \u001b[0;34m=\u001b[0m \u001b[0mY\u001b[0m\u001b[0;34m.\u001b[0m\u001b[0mto\u001b[0m\u001b[0;34m(\u001b[0m\u001b[0mdevice\u001b[0m\u001b[0;34m)\u001b[0m\u001b[0;34m\u001b[0m\u001b[0;34m\u001b[0m\u001b[0m\n\u001b[1;32m     29\u001b[0m \u001b[0;34m\u001b[0m\u001b[0m\n",
      "\u001b[0;31mKeyboardInterrupt\u001b[0m: "
     ]
    }
   ],
   "source": [
    "for epoch in range(27):\n",
    "    fcn_model = torch.load('weights_baseline/epoch-{}'.format(epoch))\n",
    "    \n",
    "    val_loss, val_acc, val_iou = val(fcn_model, val_loader, criterion, use_gpu)\n",
    "    val_losses.append(val_loss)\n",
    "    val_accs.append(val_acc)\n",
    "    val_ious.append(val_iou)\n",
    "    print('epoch {} done'.format(epoch))\n",
    "#     print('iou shape: ', val_iou.shape)\n",
    "#     print(val_loss, val_acc, val_iou)"
   ]
  },
  {
   "cell_type": "code",
   "execution_count": 9,
   "metadata": {},
   "outputs": [],
   "source": [
    "to_save = {}\n",
    "to_save['val_accs'] = val_accs\n",
    "to_save['val_losses'] = val_losses\n",
    "to_save['val_ious'] = val_ious\n",
    "\n",
    "pickle.dump(to_save, open('val_stats.pkl', 'wb'))"
   ]
  },
  {
   "cell_type": "code",
   "execution_count": 14,
   "metadata": {},
   "outputs": [
    {
     "name": "stdout",
     "output_type": "stream",
     "text": [
      "[55.49338932037354, 68.51301870346069, 71.15557928085327, 71.82049713134765, 74.96293067932129, 74.91591968536378, 76.26115865707398, 78.49598350524903, 78.62611036300659, 79.8488205909729, 81.01106271743774, 81.40178747177124, 81.81879453659057, 81.67829895019531, 82.27137107849121, 82.3140097618103, 82.10966081619263, 82.0537356376648, 83.03013830184936, 82.6362193107605, 83.31261348724365, 82.46640911102295, 83.32848243713379, 82.78832521438599, 82.87316207885742, 83.36629161834716, 82.85327529907227]\n"
     ]
    },
    {
     "data": {
      "image/png": "[encoded data removed]",
      "text/plain": [
       "<Figure size 432x288 with 1 Axes>"
      ]
     },
     "metadata": {
      "needs_background": "light"
     },
     "output_type": "display_data"
    },
    {
     "name": "stdout",
     "output_type": "stream",
     "text": [
      "[0.6430594237925172, 0.7084697616079937, 0.7392475181933545, 0.7238359939581904, 0.7651136452612195, 0.7664608567458283, 0.7735230518291215, 0.8073639512741696, 0.8177111345233959, 0.8179471797649281, 0.8314621017566683, 0.8317849506515502, 0.8418329913565485, 0.842088452726063, 0.8467905849139191, 0.8468059356681789, 0.846299545617504, 0.8489332903693986, 0.8563744852633208, 0.8445446620243535, 0.8585683381217983, 0.8500359560608174, 0.8533916229612463, 0.8562016318635052, 0.8429559337477149, 0.8588583036975754, 0.8587757121586838]\n",
      "Overall average iou:  0.8140161857744284\n"
     ]
    }
   ],
   "source": [
    "v = pickle.load(open('val_stats.pkl', 'rb'))\n",
    "val_accs = v['val_accs']\n",
    "val_ious = v['val_ious']\n",
    "\n",
    "print(val_accs)\n",
    "plt.plot(val_accs)\n",
    "plt.xlabel('epochs')\n",
    "plt.ylabel('val acc')\n",
    "plt.show()\n",
    "\n",
    "max_class_ious = []\n",
    "for iou in val_ious:\n",
    "#     print(iou.shape)\n",
    "    \n",
    "    iou = iou[~np.isnan(iou)]\n",
    "    \n",
    "    max_class_ious.append(np.max(iou))\n",
    "    \n",
    "print(max_class_ious)\n",
    "print('Overall average iou: ', np.average(np.array(max_class_ious)))"
   ]
  }
 ],
 "metadata": {
  "kernelspec": {
   "display_name": "Python 3",
   "language": "python",
   "name": "python3"
  },
  "language_info": {
   "codemirror_mode": {
    "name": "ipython",
    "version": 3
   },
   "file_extension": ".py",
   "mimetype": "text/x-python",
   "name": "python",
   "nbconvert_exporter": "python",
   "pygments_lexer": "ipython3",
   "version": "3.7.3"
  }
 },
 "nbformat": 4,
 "nbformat_minor": 2
}
